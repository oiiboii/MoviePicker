{
 "cells": [
  {
   "cell_type": "code",
   "execution_count": 20,
   "metadata": {},
   "outputs": [
    {
     "name": "stdout",
     "output_type": "stream",
     "text": [
      "Mean Squared Error: 12.266804303182676\n",
      "Classification Report:\n",
      "              precision    recall  f1-score   support\n",
      "\n",
      "           0       0.52      0.97      0.67     10399\n",
      "           1       0.47      0.03      0.06      9769\n",
      "\n",
      "    accuracy                           0.51     20168\n",
      "   macro avg       0.49      0.50      0.37     20168\n",
      "weighted avg       0.49      0.51      0.38     20168\n",
      "\n"
     ]
    }
   ],
   "source": [
    "import os  # Used to check if file already exists\n",
    "import pandas as pd  # Used to load and manipulate the ratings data\n",
    "import zipfile  # Used to extract the contents of the zip file\n",
    "import numpy as np\n",
    "from sklearn.decomposition import TruncatedSVD\n",
    "from sklearn.pipeline import make_pipeline\n",
    "from sklearn.preprocessing import StandardScaler\n",
    "from sklearn.linear_model import LinearRegression\n",
    "from lime.lime_tabular import LimeTabularExplainer\n",
    "\n",
    "url = 'https://files.grouplens.org/datasets/movielens/ml-latest-small.zip'  # URL for dataset\n",
    "filename = 'ml-latest-small.zip'  # Name of zip file\n",
    "\n",
    "if not os.path.exists(filename):  # Check if zip file exists\n",
    "    !wget https://files.grouplens.org/datasets/movielens/ml-latest-small.zip  # Download dataset if it doesn't exist\n",
    "\n",
    "with zipfile.ZipFile(filename, 'r') as zip_ref:  # Extract the contents of the zip file\n",
    "    zip_ref.extractall()\n",
    "\n",
    "ratings = pd.read_csv('ml-latest-small/ratings.csv')  # Load ratings data\n",
    "ratings.drop_duplicates(inplace=True)  # Remove duplicates\n",
    "ratings.dropna(inplace=True)  # Remove missing values\n",
    "\n",
    "user_item_matrix = ratings.pivot(index='userId', columns='movieId', values='rating').fillna(0)  # Convert data to user-item matrix\n",
    "\n",
    "from sklearn.decomposition import TruncatedSVD  # Import matrix factorization method\n",
    "\n",
    "svd = TruncatedSVD(n_components=100)  # Initialize matrix factorization\n",
    "user_factors = svd.fit_transform(user_item_matrix)  # Generate user factors\n",
    "item_factors = svd.components_  # Generate item factors\n",
    "\n",
    "from sklearn.model_selection import train_test_split  # Import train-test split method\n",
    "\n",
    "train_data, test_data = train_test_split(ratings, test_size=0.2)  # Split data into training and test sets\n",
    "train_matrix = train_data.pivot(index='userId', columns='movieId', values='rating').fillna(0)  # Convert training data to user-item matrix\n",
    "\n",
    "svd = TruncatedSVD(n_components=100)  # Initialize matrix factorization\n",
    "user_factors = svd.fit_transform(train_matrix)  # Generate user factors\n",
    "item_factors = svd.components_  # Generate item factors\n",
    "\n",
    "test_matrix = test_data.pivot(index='userId', columns='movieId', values='rating').fillna(0)  # Convert test data to user-item matrix\n",
    "\n",
    "predicted_ratings = user_factors.dot(item_factors)  # Predict ratings for test set\n",
    "\n",
    "from sklearn.metrics import mean_squared_error, classification_report  # Import evaluation metrics\n",
    "\n",
    "test_array = np.array(test_matrix)  # Convert test data to numpy array\n",
    "predicted_ratings = user_factors.dot(item_factors)  # Predict ratings for test set\n",
    "\n",
    "mse = mean_squared_error(predicted_ratings[test_array.nonzero()], test_array[test_array.nonzero()])  # Calculate MSE\n",
    "print(f'Mean Squared Error: {mse}')\n",
    "\n",
    "threshold = 3.5  # Set threshold for considering a prediction to be correct\n",
    "\n",
    "predicted_binary = (predicted_ratings > threshold).astype(int)  # Convert predicted ratings to binary values\n",
    "actual_binary = (test_array > threshold).astype(int)  # Convert actual ratings to binary values\n",
    "\n",
    "report = classification_report(actual_binary[test_array.nonzero()], predicted_binary[test_array.nonzero()])  # Calculate precision, recall, and F1-score\n",
    "print(f'Classification Report:\\n{report}')  # Print evaluation metrics\n"
   ]
  },
  {
   "cell_type": "markdown",
   "metadata": {},
   "source": []
  },
  {
   "cell_type": "code",
   "execution_count": 15,
   "metadata": {},
   "outputs": [
    {
     "name": "stdout",
     "output_type": "stream",
     "text": [
      "Intercept 1.9473861286876644\n",
      "Prediction_local [0.45272241]\n",
      "Right: 0.8233891315623197\n",
      "Prediction: 0.82\n",
      "Explanation:\n",
      "55 <= 0.00: -0.28\n",
      "287 <= 0.00: -0.25\n",
      "726 <= 0.00: -0.21\n",
      "722 <= 0.00: -0.21\n",
      "214 <= 0.00: -0.15\n",
      "452 <= 0.00: -0.12\n",
      "580 <= 0.00: -0.09\n",
      "1177 <= 0.00: -0.08\n",
      "1280 <= 0.00: -0.06\n",
      "305 <= 0.00: -0.06\n"
     ]
    }
   ],
   "source": [
    "import pandas as pd\n",
    "import numpy as np\n",
    "from sklearn.decomposition import TruncatedSVD\n",
    "from sklearn.pipeline import make_pipeline\n",
    "from sklearn.preprocessing import StandardScaler\n",
    "from sklearn.linear_model import LinearRegression\n",
    "from lime.lime_tabular import LimeTabularExplainer\n",
    "\n",
    "# Perform matrix factorization using TruncatedSVD\n",
    "svd = TruncatedSVD(n_components=100)\n",
    "model = make_pipeline(StandardScaler(), svd, LinearRegression())\n",
    "\n",
    "# Choose a random user and movie\n",
    "user_id = 100\n",
    "movie_id = 300\n",
    "\n",
    "# Check if the movie_id variable is present in the user_item_matrix dataframe\n",
    "if movie_id not in user_item_matrix.columns:\n",
    "    print('Invalid movie ID. Please choose a different movie ID.')\n",
    "else:\n",
    "    # Specify the target variable y\n",
    "    y = user_item_matrix[movie_id]\n",
    "\n",
    "    # Remove the target variable from the feature matrix X\n",
    "    X = user_item_matrix.drop(columns=movie_id)\n",
    "\n",
    "    # Fit the linear regression model\n",
    "    model.fit(X, y)\n",
    "\n",
    "    # Make a prediction for the user and movie\n",
    "    rating = model.predict(np.array([X.loc[user_id].values]))[0]\n",
    "\n",
    "    # Generate an explanation for the recommendation using LIME\n",
    "    explainer = LimeTabularExplainer(X.values, feature_names=X.columns, class_names=['rating'], verbose=True, mode='regression')\n",
    "    explanation = explainer.explain_instance(X.loc[user_id].values, model.predict, num_features=10)\n",
    "\n",
    "\n",
    "    # Print the prediction and explanation\n",
    "    print(f'Prediction: {rating:.2f}')\n",
    "    print('Explanation:')\n",
    "    for feature, weight in explanation.as_list():\n",
    "        print(f'{feature}: {weight:.2f}')"
   ]
  },
  {
   "cell_type": "code",
   "execution_count": 19,
   "metadata": {},
   "outputs": [
    {
     "data": {
      "image/png": "[encoded data removed]",
      "text/plain": [
       "<Figure size 640x480 with 1 Axes>"
      ]
     },
     "metadata": {},
     "output_type": "display_data"
    },
    {
     "name": "stdout",
     "output_type": "stream",
     "text": [
      "Top features for user 100 and movie 300:\n",
      "55 <= 0.00: -0.2774217274517475\n",
      "287 <= 0.00: -0.25009116473728515\n",
      "726 <= 0.00: -0.20955530558970648\n",
      "722 <= 0.00: -0.20700786928909257\n",
      "214 <= 0.00: -0.14703923585600123\n",
      "452 <= 0.00: -0.11679985442966898\n",
      "580 <= 0.00: -0.08520456489750923\n",
      "1177 <= 0.00: -0.0795670982342044\n",
      "1280 <= 0.00: -0.06484717921313496\n",
      "305 <= 0.00: -0.05712972126824353\n",
      "Recommended movies for user 100 based on analyzed features:\n"
     ]
    }
   ],
   "source": [
    "import matplotlib.pyplot as plt\n",
    "\n",
    "# Visualize the explanation using Matplotlib\n",
    "fig = explanation.as_pyplot_figure()\n",
    "plt.show()\n",
    "\n",
    "top_features = explanation.as_list()\n",
    "print(f'Top features for user {user_id} and movie {movie_id}:')\n",
    "for feature, weight in top_features:\n",
    "    print(f'{feature}: {weight}')\n",
    "\n",
    "# Provide recommendations based on the analyzed features\n",
    "recommended_movies = []\n",
    "for feature, weight in top_features:\n",
    "    if weight > 0:\n",
    "        recommended_movies.extend(X[X[feature] > 0].index.tolist())\n",
    "recommended_movies = list(set(recommended_movies))\n",
    "print(f'Recommended movies for user {user_id} based on analyzed features:')\n",
    "for movie in recommended_movies:\n",
    "    if movie != movie_id:\n",
    "        print(f'{movie}')"
   ]
  }
 ],
 "metadata": {
  "kernelspec": {
   "display_name": "Python 3",
   "language": "python",
   "name": "python3"
  },
  "language_info": {
   "codemirror_mode": {
    "name": "ipython",
    "version": 3
   },
   "file_extension": ".py",
   "mimetype": "text/x-python",
   "name": "python",
   "nbconvert_exporter": "python",
   "pygments_lexer": "ipython3",
   "version": "3.11.3"
  },
  "orig_nbformat": 4
 },
 "nbformat": 4,
 "nbformat_minor": 2
}
