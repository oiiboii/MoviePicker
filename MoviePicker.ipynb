{
 "cells": [
  {
   "cell_type": "code",
   "execution_count": null,
   "metadata": {},
   "outputs": [],
   "source": []
  },
  {
   "cell_type": "code",
   "execution_count": 15,
   "metadata": {},
   "outputs": [
    {
     "data": {
      "text/plain": [
       "(100836, 4)"
      ]
     },
     "execution_count": 15,
     "metadata": {},
     "output_type": "execute_result"
    }
   ],
   "source": [
    "import os  # Used to check if file already exists\n",
    "import pandas as pd  # Used to load and manipulate the ratings data\n",
    "import zipfile  # Used to extract the contents of the zip file\n",
    "\n",
    "# Define the URL and file name for the MovieLens dataset\n",
    "url = 'https://files.grouplens.org/datasets/movielens/ml-latest-small.zip'\n",
    "filename = 'ml-latest-small.zip'\n",
    "\n",
    "# Check if file already exists before downloading\n",
    "if not os.path.exists(filename):\n",
    "    # Download the MovieLens dataset\n",
    "    !wget https://files.grouplens.org/datasets/movielens/ml-latest-small.zip\n",
    "\n",
    "# Extract the dataset\n",
    "with zipfile.ZipFile(filename, 'r') as zip_ref:\n",
    "    zip_ref.extractall()\n",
    "\n",
    "# Load the ratings data from the csv file\n",
    "ratings_df = pd.read_csv('ml-latest-small/ratings.csv')\n",
    "\n",
    "# Preprocess the data to handle missing values\n",
    "mean_rating = ratings_df['rating'].mean()\n",
    "ratings_df['rating'].fillna(mean_rating, inplace=True)\n",
    "\n",
    "# Remove duplicates from the ratings data\n",
    "ratings_df.drop_duplicates(inplace=True)\n",
    "\n",
    "# Remove missing values from the ratings data\n",
    "ratings_df.dropna(inplace=True)\n",
    "\n",
    "# Convert the ratings data into a user-item rating matrix\n",
    "ratings_matrix = ratings_df.pivot(index='userId', columns='movieId', values='rating')\n",
    "\n",
    "# Print the shape (rows, columns) of the dataframe to check that the data set was loaded correctly\n",
    "ratings_df.shape\n"
   ]
  },
  {
   "cell_type": "code",
   "execution_count": 25,
   "metadata": {},
   "outputs": [],
   "source": []
  },
  {
   "cell_type": "code",
   "execution_count": null,
   "metadata": {},
   "outputs": [],
   "source": []
  }
 ],
 "metadata": {
  "kernelspec": {
   "display_name": "Python 3",
   "language": "python",
   "name": "python3"
  },
  "language_info": {
   "codemirror_mode": {
    "name": "ipython",
    "version": 3
   },
   "file_extension": ".py",
   "mimetype": "text/x-python",
   "name": "python",
   "nbconvert_exporter": "python",
   "pygments_lexer": "ipython3",
   "version": "3.11.3"
  },
  "orig_nbformat": 4
 },
 "nbformat": 4,
 "nbformat_minor": 2
}
